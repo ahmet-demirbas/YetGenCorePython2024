{
 "cells": [
  {
   "cell_type": "markdown",
   "metadata": {},
   "source": [
    "# Problem 1\n",
    "`ogrenciler` adında bir sözlük oluşturunuz. Kullanıcıdan döngü yardımıyla 3 öğrenci için veri girmesini isteyerek öğrencilerin sırasıyla okul numarası, isim, soy isim, telefon numarası ve doğum tarihi bilgilerini alınız. Aldığınız öğrenci bilgilerini yine aynı döngü yardımıyla `ogrenciler` adındaki sözlükte saklayınız. Daha sonra öğrenci bilgilerinin bulunduğu sözlük yapısını ekrana bastırınız.\n",
    "\n"
   ]
  },
  {
   "cell_type": "code",
   "execution_count": 4,
   "metadata": {},
   "outputs": [
    {
     "name": "stdout",
     "output_type": "stream",
     "text": [
      "{1: {'Okul Numarası': 54, 'İsim': 'dfh', 'Soyisim': 'hfgh', 'Telefon Numarası': '5', 'Doğum Tarihi': '5'}, 2: {'Okul Numarası': 5, 'İsim': 'g', 'Soyisim': 'f', 'Telefon Numarası': '5', 'Doğum Tarihi': '85'}, 3: {'Okul Numarası': 98, 'İsim': 'lfkf', 'Soyisim': 'djk', 'Telefon Numarası': '95', 'Doğum Tarihi': '75'}}\n"
     ]
    }
   ],
   "source": [
    "# 1.Problemin Çözümünü Buraya Yazınız\n",
    "ogrenciler= {}\n",
    "\n",
    "for i in range(1,4):\n",
    "    okulNo = int(input(\"Okul no giriniz: \"))\n",
    "    isim = input(\"İsminizi Giriniz:\")\n",
    "    soyisim = input(\"Soyisminizi giriniz: \")\n",
    "    telNo = input(\"Telefon numaranızı giriniz: \")\n",
    "    dogum = input(\"Doğum tarihinizi giriniz: \")\n",
    "    \n",
    "\n",
    "    ogrenciler[i] = {\n",
    "    \"Okul Numarası\" : okulNo,\n",
    "    \"İsim\" : isim,\n",
    "    \"Soyisim\" : soyisim,\n",
    "    \"Telefon Numarası\" : telNo,\n",
    "    \"Doğum Tarihi\" : dogum\n",
    "}\n",
    "\n",
    "print(ogrenciler)\n"
   ]
  },
  {
   "cell_type": "markdown",
   "metadata": {},
   "source": [
    "# Problem 2\n",
    "\n",
    "### a - Biraz ısınarak başlayalım!\n",
    "\n",
    "```\n",
    "numbers = [5,10,10,15,15,15,20,20,20,20]\n",
    "```\n",
    "\n",
    "Yukarıda `numbers` adında 10 elemanlı bir liste verilmiştir. Bu listenin her elemanını kontrol eden ve tekrar eden elemanları bir kez olacak şekilde başka bir listeye kopyalayan bir program yazınız. Son olarak oluşturduğunuz listeyi ekrana bastırınız.\n",
    "\n",
    "\n",
    "\n",
    "\n",
    "```\n",
    ">Output\n",
    "[5, 10, 15, 20]\n",
    "```\n"
   ]
  },
  {
   "cell_type": "code",
   "execution_count": 2,
   "metadata": {},
   "outputs": [
    {
     "name": "stdout",
     "output_type": "stream",
     "text": [
      "[5, 10, 15, 20]\n"
     ]
    }
   ],
   "source": [
    "# 2.Problemin a Şıkkının Çözümünü Buraya Yazınız\n",
    "numbers = [5,10,10,15,15,15,20,20,20,20]\n",
    "\n",
    "list = []\n",
    "\n",
    "for deger in numbers:\n",
    "    if deger not in list:\n",
    "        list.append(deger)\n",
    "        \n",
    "print(list)\n",
    "    "
   ]
  },
  {
   "cell_type": "markdown",
   "metadata": {},
   "source": [
    "### 🌶️ b) Hadi işi biraz daha zorlaştıralım! \n",
    "\n",
    "\n",
    "Şimdiyse senden `numbers` isimli listedeki tekrar eden elemanları `repeatNumbers` adındaki listeye; tekrar etmeyen elemanları `uniqueNumbers`adındaki listeye kopyalayan yazmanı ve listeleri ekrana bastırmanı bekliyoruz\n",
    "\n",
    "```\n",
    ">Output\n",
    "Tekrar Eden Elemanlar: [10, 10, 15, 15, 15, 20, 20, 20, 20]\n",
    "Tekrar Etmeyen Elemanlar: [5]\n",
    "```"
   ]
  },
  {
   "cell_type": "code",
   "execution_count": 5,
   "metadata": {},
   "outputs": [
    {
     "name": "stdout",
     "output_type": "stream",
     "text": [
      "[10, 10, 15, 15, 15, 20, 20, 20, 20]\n",
      "[5]\n"
     ]
    }
   ],
   "source": [
    "# 2.Problemin b Şıkkının Çözümünü Buraya Yazınız\n",
    "numbers = [5,10,10,15,15,15,20,20,20,20]\n",
    "\n",
    "liste = []\n",
    "repeatNumbers = []\n",
    "uniqueNumbers = []\n",
    "\n",
    "for i in numbers:\n",
    "    if numbers.count(i) > 1: ### count() komutu aynen append() gibi bir listenin sonuna .count() olacak şekilde yerleştirilir.\n",
    "        repeatNumbers.append(i)\n",
    "    else:\n",
    "        uniqueNumbers.append(i)\n",
    "\n",
    "print(repeatNumbers)\n",
    "print(uniqueNumbers)\n",
    "        "
   ]
  },
  {
   "cell_type": "markdown",
   "metadata": {},
   "source": [
    "# Problem 3\n",
    "sn1 = {1,2,3,4,5}\n",
    "\n",
    "sn2 = {4,5,6,7,8}\n",
    "\n",
    " Verilen 2 adet küme için kesişimlerini, farklarını ve birleşimlerini bulunuz. "
   ]
  },
  {
   "cell_type": "code",
   "execution_count": 3,
   "metadata": {},
   "outputs": [
    {
     "name": "stdout",
     "output_type": "stream",
     "text": [
      "{1, 2, 3, 4, 5, 6, 7, 8}\n",
      "{4, 5}\n",
      "{1, 2, 3}\n",
      "{8, 6, 7}\n"
     ]
    }
   ],
   "source": [
    "# 3.Problemin Çözümünü Buraya Yazınız\n",
    "\n",
    "sn1 = {1,2,3,4,5}\n",
    "\n",
    "sn2 = {4,5,6,7,8}\n",
    "\n",
    "birlesim = sn1.union(sn2)\n",
    "\n",
    "kesisim = sn1.intersection(sn2) # intersection = kesişim\n",
    "\n",
    "fark1 = sn1.difference(sn2)\n",
    "\n",
    "fark2 = sn2.difference(sn1)\n",
    "\n",
    "print(birlesim)\n",
    "print(kesisim)\n",
    "print(fark1)\n",
    "print(fark2)"
   ]
  },
  {
   "cell_type": "markdown",
   "metadata": {},
   "source": [
    "# Problem 4\n",
    "\n",
    "Buradaki işlemlerimizin tamamı stringler içindir. Aşağıda verilecek olan metodlar için kendinizin örnek yaratması gerekmektedir. \n",
    "\n",
    "Örneğin `upper` için `string` değişkeni oluştururken` k = \"BAC\"` şeklinde oluşturmayınız. Bunun yerine k değişkenini `k = \"bac`\" şeklinde oluşturmanız `upper` metodundaki değişimi görebilmeniz için daha iyi olacaktır.\n",
    "\n",
    "Bütün metodlardaki değişimin gözle görülür şekilde değişimi beklenmektedir.\n",
    "\n",
    "\n",
    "1- capitalize(), lower(), upper(), swapcase(), title(), replace()\n",
    "\n",
    "2- endswith(), startswith(), find(), index(), count()\n",
    "\n",
    "3- split(), strip(), join(), islower(), isalpha(), isdigit()\n",
    "\n",
    "\n",
    "Yukarıdaki `string` metodlarındaki değişimleri görebildiğimiz bir program yazınız.\n"
   ]
  },
  {
   "cell_type": "code",
   "execution_count": 12,
   "metadata": {},
   "outputs": [
    {
     "name": "stdout",
     "output_type": "stream",
     "text": [
      "\n",
      "İlk stringim: Merhaba Dünya 123\n",
      "capitalize(): Merhaba dünya 123\n",
      "lower(): merhaba dünya 123\n",
      "upper(): MERHABA DÜNYA 123\n",
      "swapcase(): mERHABA dÜNYA 123\n",
      "title(): Merhaba Dünya 123\n",
      "replace(): Merhaba Evren 123\n",
      "\n",
      "İlk stringim: Merhaba Dünya 123\n",
      "endswith('123'): True\n",
      "startswith('Merhaba'): True\n",
      "find('Dünya'): 8\n",
      "index('Dünya'): 8\n",
      "count('a'): 3\n",
      "\n",
      "İlk stringim: Merhaba Dünya 123\n",
      "split(): ['Merhaba', 'Dünya', '123']\n",
      "strip(): Merhaba Dünya 123\n",
      "join(['Merhaba', 'Dünya']): Merhaba Dünya\n",
      "islower(): False\n",
      "isalpha(): False\n",
      "isdigit(): False\n"
     ]
    }
   ],
   "source": [
    "# 4.Problemin Çözümünü Buraya Yazınız\n",
    "\n",
    "k = \"Merhaba Dünya 123\"\n",
    "\n",
    "# 1. Grup: Metin değiştirme metodları\n",
    "print(\"\\nİlk stringim:\", k)\n",
    "print(\"capitalize():\", k.capitalize())\n",
    "print(\"lower():\", k.lower())\n",
    "print(\"upper():\", k.upper())\n",
    "print(\"swapcase():\", k.swapcase())\n",
    "print(\"title():\", k.title())\n",
    "print(\"replace():\", k.replace('Dünya', 'Evren'))\n",
    "\n",
    "# 2. Grup: Metin sorgulama metodları\n",
    "print(\"\\nİlk stringim:\", k)\n",
    "print(\"endswith('123'):\", k.endswith('123'))\n",
    "print(\"startswith('Merhaba'):\", k.startswith('Merhaba'))\n",
    "print(\"find('Dünya'):\", k.find('Dünya'))\n",
    "print(\"index('Dünya'):\", k.index('Dünya'))\n",
    "print(\"count('a'):\", k.count('a'))\n",
    "\n",
    "# 3. Grup: Metin işleme metodları\n",
    "print(\"\\nİlk stringim:\", k)\n",
    "print(\"split():\", k.split())\n",
    "print(\"strip():\", k.strip())\n",
    "print(\"join(['Merhaba', 'Dünya']):\", ' '.join(['Merhaba', 'Dünya']))\n",
    "print(\"islower():\", k.islower())\n",
    "print(\"isalpha():\", k.isalpha())\n",
    "print(\"isdigit():\", k.isdigit())"
   ]
  }
 ],
 "metadata": {
  "kernelspec": {
   "display_name": "Python 3.10.5 64-bit",
   "language": "python",
   "name": "python3"
  },
  "language_info": {
   "codemirror_mode": {
    "name": "ipython",
    "version": 3
   },
   "file_extension": ".py",
   "mimetype": "text/x-python",
   "name": "python",
   "nbconvert_exporter": "python",
   "pygments_lexer": "ipython3",
   "version": "3.12.3"
  },
  "orig_nbformat": 4,
  "vscode": {
   "interpreter": {
    "hash": "5026d2d6e7aaaaba093def813beadff083d8733e4a511af01735cbabd156995d"
   }
  }
 },
 "nbformat": 4,
 "nbformat_minor": 2
}
